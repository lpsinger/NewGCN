{
 "cells": [
  {
   "cell_type": "code",
   "execution_count": 1,
   "metadata": {},
   "outputs": [],
   "source": [
    "pip install astropy"
   ]
  },
  {
   "cell_type": "code",
   "execution_count": null,
   "metadata": {},
   "outputs": [],
   "source": [
    "pip install bs4"
   ]
  },
  {
   "cell_type": "code",
   "execution_count": null,
   "metadata": {},
   "outputs": [],
   "source": [
    "from SaveGCN import *\n",
    "#from MakeTable import *"
   ]
  },
  {
   "cell_type": "code",
   "execution_count": 2,
   "metadata": {},
   "outputs": [],
   "source": [
    "Done = [[23600, 23800],\n",
    "        [26624, 26975]]\n",
    "\n",
    "edit_csv_auto()"
   ]
  },
  {
   "cell_type": "code",
   "execution_count": null,
   "metadata": {},
   "outputs": [],
   "source": [
    "# 지난번에 23776번까지 했음\n",
    "# 1차 목표: 26900 약 3000개\n",
    "\n",
    "ErrorList = []\n",
    "for i in range(26624, 26975):\n",
    "    \n",
    "    GRB = SaveGCN(i)\n",
    "    GRB.Save_in_csv(verbose=2)\n",
    "    test = input(\"Is it ok? \")\n",
    "    if test != '':\n",
    "        ErrorList.append(i)\n",
    "    clear_output()\n",
    "    \n",
    "print(ErrorList)"
   ]
  },
  {
   "cell_type": "code",
   "execution_count": null,
   "metadata": {},
   "outputs": [],
   "source": [
    "temp = MakeTable(verbose=True, online=True)\n"
   ]
  }
 ],
 "metadata": {
  "kernelspec": {
   "display_name": "Python 3",
   "language": "python",
   "name": "python3"
  },
  "language_info": {
   "codemirror_mode": {
    "name": "ipython",
    "version": 3
   },
   "file_extension": ".py",
   "mimetype": "text/x-python",
   "name": "python",
   "nbconvert_exporter": "python",
   "pygments_lexer": "ipython3",
   "version": "3.7.1"
  }
 },
 "nbformat": 4,
 "nbformat_minor": 2
}
